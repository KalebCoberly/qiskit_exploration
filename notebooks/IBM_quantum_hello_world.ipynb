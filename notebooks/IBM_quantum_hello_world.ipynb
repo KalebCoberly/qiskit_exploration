{
 "cells": [
  {
   "cell_type": "markdown",
   "id": "ffedb203-3b92-44ad-80b1-d5716e92b7c0",
   "metadata": {},
   "source": [
    "Follows along with the IBM Quantum hello world project: https://docs.quantum.ibm.com/guides/hello-world\n",
    "\n",
    "Includes my own commentary."
   ]
  },
  {
   "cell_type": "code",
   "execution_count": 1,
   "id": "25234673-7431-4edb-b658-cce197f6a025",
   "metadata": {},
   "outputs": [],
   "source": [
    "from qiskit import QuantumCircuit\n",
    "from qiskit.quantum_info import SparsePauliOp\n",
    "from qiskit.transpiler.preset_passmanagers import generate_preset_pass_manager\n",
    "from qiskit_ibm_runtime import EstimatorV2 as Estimator, QiskitRuntimeService"
   ]
  },
  {
   "cell_type": "markdown",
   "id": "5e1977f6-192d-49ab-a65c-ee6a36d32641",
   "metadata": {},
   "source": [
    "### Create Bell state (entangled qubits)"
   ]
  },
  {
   "cell_type": "code",
   "execution_count": 2,
   "id": "7966a9ab-e17b-4fdc-8111-779a6599a663",
   "metadata": {},
   "outputs": [
    {
     "data": {
      "image/png": "[encoded data removed]",
      "text/plain": [
       "<Figure size 287.294x200.667 with 1 Axes>"
      ]
     },
     "execution_count": 2,
     "metadata": {},
     "output_type": "execute_result"
    }
   ],
   "source": [
    "# Create a new circuit with two qubits.\n",
    "qc = QuantumCircuit(2)\n",
    " \n",
    "# Add a Hadamard gate to qubit 0.\n",
    "qc.h(0)\n",
    " \n",
    "# Perform a controlled-X gate on qubit 1, controlled by qubit 0.\n",
    "qc.cx(0, 1)\n",
    " \n",
    "# Return a drawing of the circuit using MatPlotLib (\"mpl\").\n",
    "qc.draw(\"mpl\")"
   ]
  },
  {
   "cell_type": "markdown",
   "id": "bd2e6376-f9a3-45e0-849a-2efb193d5ab2",
   "metadata": {},
   "source": [
    "The Hadamard gate puts qubit 0 into superposition, rotating it from the default initialized spin-up state of |0> to |->, halfway between |0> and |1>.\n",
    "\n",
    "Then, the CNOT gate is what entangles the two qubits. If qubit 0 is |0>, qubit 1 stays at its value (|0> in this case), but if qubit 0 is |1>, qubit 1 flips its value (to |1> in this case).\n",
    "\n",
    "So, we'd expect measurements of both qubits to be random, split equally between |0> and |1>. The 50-50 measurement of qubit 0 is due to its superposition, not its entanglement. But, the 50-50 measurement of qubit 1 is due to its entanglement to the superpositioned qubit 0.\n",
    "\n",
    "Edit: Am I correct here? The observations suggest a pretty stable 0 for the X gate."
   ]
  },
  {
   "cell_type": "markdown",
   "id": "ffdb520f-912f-4432-a761-0c3fc0b37f0c",
   "metadata": {},
   "source": [
    "### Set up observables\n",
    "\n",
    "\"Qiskit provides two ways to return data: you can obtain a probability distribution for a set of qubits you choose to measure, or you can obtain the expectation value of an observable.\""
   ]
  },
  {
   "cell_type": "code",
   "execution_count": 3,
   "id": "57b84e3b-78ec-4b31-95d1-363411ebfe77",
   "metadata": {},
   "outputs": [],
   "source": [
    "# Set up six different observables.\n",
    " \n",
    "observables_labels = [\"IZ\", \"IX\", \"ZI\", \"XI\", \"ZZ\", \"XX\"]\n",
    "observables = [SparsePauliOp(label) for label in observables_labels]"
   ]
  },
  {
   "cell_type": "markdown",
   "id": "53ee7952-0215-49f2-a904-e8116831accb",
   "metadata": {},
   "source": [
    "These are Pauli gates to apply to the circuit and thus gain information about it.\n",
    "\n",
    "\"Here, something like the ZZ operator is a shorthand for the tensor product \n",
    "Z\n",
    "⊗\n",
    "Z\n",
    "Z⊗Z, which means measuring Z on qubit 1 and Z on qubit 0 together, and obtaining information about the correlation between qubit 1 and qubit 0. Expectation values like this are also typically written as ⟨Z_1 Z_0⟩.\n",
    "\n",
    "If the state is entangled, then the measurement of ⟨Z_1 Z_0⟩ should be 1.\"\n",
    "\n",
    "I'll need to look up the rest to see what they tell us."
   ]
  },
  {
   "cell_type": "markdown",
   "id": "7c14f264-72bf-4148-ae3b-dce0803b2c5a",
   "metadata": {},
   "source": [
    "### Optimize circuit\n",
    "\n",
    "Now we need to optimize the instruction set for the particular hardware you're using. IBM has a number of machines you can use, each with different architecture. Machines can have different basis gates to construct all the possible high-level gates, and different networked connection of the qubits, so the actual instructions carried out to achieve the circuit we've designed will be different and more complex than the circuit as we see it first. This can result in differing circuit depths (longest path), and thus different degrees of error and noise. This is also affected by the depth capacity of the qubits (I can't remember the exact terminology, but basically how long a qubit can run before it loses fidelity ... decoheres?).\n",
    "\n",
    "Here, we're not optimizing the machine we select. We're just grabbing the \"least busy\" machine and optimizing the instruction set for that machine:"
   ]
  },
  {
   "cell_type": "code",
   "execution_count": 4,
   "id": "3d8a65ca-930a-4cfb-9aba-4d745aa6c387",
   "metadata": {},
   "outputs": [
    {
     "data": {
      "image/png": "[encoded data removed]",
      "text/plain": [
       "<Figure size 590.608x200.667 with 1 Axes>"
      ]
     },
     "execution_count": 4,
     "metadata": {},
     "output_type": "execute_result"
    }
   ],
   "source": [
    "# If you have not previously saved your credentials, follow instructions at\n",
    "# https://docs.quantum.ibm.com/guides/setup-channel#iqp\n",
    "# to authenticate with your API token.\n",
    "# Or, run ../scripts/setup_IBM_channel.py\n",
    "service = QiskitRuntimeService()\n",
    " \n",
    "backend = service.least_busy(simulator=False, operational=True)\n",
    " \n",
    "# Convert to an ISA circuit and layout-mapped observables.\n",
    "pm = generate_preset_pass_manager(backend=backend, optimization_level=1)\n",
    "isa_circuit = pm.run(qc)\n",
    " \n",
    "isa_circuit.draw(\"mpl\", idle_wires=False)"
   ]
  },
  {
   "cell_type": "markdown",
   "id": "d40644d3-f5be-412a-820d-5b938a779683",
   "metadata": {},
   "source": [
    "### Execute with quantum primitives\n",
    "\n",
    "Using many shots to get a probability distribution and mitigate quantum error, we'll use the Estimator class (the other primitive being the Sampler) to estimate the observables' values."
   ]
  },
  {
   "cell_type": "code",
   "execution_count": 6,
   "id": "47c9892b-e0a2-4322-b16b-86c3dd246759",
   "metadata": {},
   "outputs": [
    {
     "name": "stdout",
     "output_type": "stream",
     "text": [
      ">>> Job ID: cycqd04cw2k0008kn4j0\n"
     ]
    }
   ],
   "source": [
    "# Construct the Estimator instance.\n",
    " \n",
    "estimator = Estimator(mode=backend)\n",
    "estimator.options.resilience_level = 1\n",
    "estimator.options.default_shots = 5000\n",
    " \n",
    "mapped_observables = [\n",
    "    observable.apply_layout(isa_circuit.layout) for observable in observables\n",
    "]\n",
    " \n",
    "# One primitive unified bloc (PUB), with one circuit to run against five different observables.\n",
    "job = estimator.run([(isa_circuit, mapped_observables)])\n",
    " \n",
    "# Use the job ID to retrieve your job data later.\n",
    "print(f\">>> Job ID: {job.job_id()}\")"
   ]
  },
  {
   "cell_type": "code",
   "execution_count": 7,
   "id": "1d401c7a-af29-4d4d-88d7-298ac7856a20",
   "metadata": {},
   "outputs": [],
   "source": [
    "# This is the result of the entire submission.  You submitted one Pub,\n",
    "# so this contains one inner result (and some metadata of its own).\n",
    "job_result = job.result()\n",
    " \n",
    "# This is the result from our single pub, which had six observables,\n",
    "# so contains information on all six.\n",
    "pub_result = job.result()[0]"
   ]
  },
  {
   "cell_type": "code",
   "execution_count": 8,
   "id": "e9227ea7-7faa-4550-9a66-7361f474095a",
   "metadata": {},
   "outputs": [
    {
     "name": "stdout",
     "output_type": "stream",
     "text": [
      "Expectation values for pub 0: [-0.02123993  0.00122538 -0.01520162 -0.01040111  0.97292513  0.96758841]\n"
     ]
    }
   ],
   "source": [
    "for idx, pub_result in enumerate(job_result):\n",
    "    print(f\"Expectation values for pub {idx}: {pub_result.data.evs}\")"
   ]
  },
  {
   "cell_type": "code",
   "execution_count": 9,
   "id": "d6ead8c8-b692-41c2-a43c-e56741ff67bb",
   "metadata": {},
   "outputs": [
    {
     "data": {
      "text/plain": [
       "[SparsePauliOp(['IZ'],\n",
       "               coeffs=[1.+0.j]),\n",
       " SparsePauliOp(['IX'],\n",
       "               coeffs=[1.+0.j]),\n",
       " SparsePauliOp(['ZI'],\n",
       "               coeffs=[1.+0.j]),\n",
       " SparsePauliOp(['XI'],\n",
       "               coeffs=[1.+0.j]),\n",
       " SparsePauliOp(['ZZ'],\n",
       "               coeffs=[1.+0.j]),\n",
       " SparsePauliOp(['XX'],\n",
       "               coeffs=[1.+0.j])]"
      ]
     },
     "execution_count": 9,
     "metadata": {},
     "output_type": "execute_result"
    }
   ],
   "source": [
    "observables"
   ]
  },
  {
   "cell_type": "code",
   "execution_count": 11,
   "id": "bb0fdaf9-4e50-45fa-be85-a272a1446a6d",
   "metadata": {},
   "outputs": [
    {
     "data": {
      "text/plain": [
       "PrimitiveResult([PubResult(data=DataBin(evs=np.ndarray(<shape=(6,), dtype=float64>), stds=np.ndarray(<shape=(6,), dtype=float64>), ensemble_standard_error=np.ndarray(<shape=(6,), dtype=float64>), shape=(6,)), metadata={'shots': 5024, 'target_precision': 0.01414213562373095, 'circuit_metadata': {}, 'resilience': {}, 'num_randomizations': 32})], metadata={'dynamical_decoupling': {'enable': False, 'sequence_type': 'XX', 'extra_slack_distribution': 'middle', 'scheduling_method': 'alap'}, 'twirling': {'enable_gates': False, 'enable_measure': True, 'num_randomizations': 'auto', 'shots_per_randomization': 'auto', 'interleave_randomizations': True, 'strategy': 'active-accum'}, 'resilience': {'measure_mitigation': True, 'zne_mitigation': False, 'pec_mitigation': False}, 'version': 2})"
      ]
     },
     "execution_count": 11,
     "metadata": {},
     "output_type": "execute_result"
    }
   ],
   "source": [
    "job_result"
   ]
  },
  {
   "cell_type": "code",
   "execution_count": 12,
   "id": "c8c5cf93-41ff-4b69-8ee2-5aeb5b374462",
   "metadata": {},
   "outputs": [
    {
     "data": {
      "text/plain": [
       "PubResult(data=DataBin(evs=np.ndarray(<shape=(6,), dtype=float64>), stds=np.ndarray(<shape=(6,), dtype=float64>), ensemble_standard_error=np.ndarray(<shape=(6,), dtype=float64>), shape=(6,)), metadata={'shots': 5024, 'target_precision': 0.01414213562373095, 'circuit_metadata': {}, 'resilience': {}, 'num_randomizations': 32})"
      ]
     },
     "execution_count": 12,
     "metadata": {},
     "output_type": "execute_result"
    }
   ],
   "source": [
    "pub_result"
   ]
  },
  {
   "cell_type": "code",
   "execution_count": 13,
   "id": "8b6cb634-dc3b-4f1f-839d-6073dc9a8b50",
   "metadata": {},
   "outputs": [
    {
     "data": {
      "text/plain": [
       "DataBin(evs=np.ndarray(<shape=(6,), dtype=float64>), stds=np.ndarray(<shape=(6,), dtype=float64>), ensemble_standard_error=np.ndarray(<shape=(6,), dtype=float64>), shape=(6,))"
      ]
     },
     "execution_count": 13,
     "metadata": {},
     "output_type": "execute_result"
    }
   ],
   "source": [
    "pub_result.data"
   ]
  },
  {
   "cell_type": "code",
   "execution_count": 14,
   "id": "03f5c53e-db1e-4e1f-9794-0f4eba806a1d",
   "metadata": {},
   "outputs": [
    {
     "data": {
      "text/plain": [
       "array([-0.02123993,  0.00122538, -0.01520162, -0.01040111,  0.97292513,\n",
       "        0.96758841])"
      ]
     },
     "execution_count": 14,
     "metadata": {},
     "output_type": "execute_result"
    }
   ],
   "source": [
    "pub_result.data.evs"
   ]
  },
  {
   "cell_type": "code",
   "execution_count": 16,
   "id": "60d92d92-9834-4de7-83c6-96109642e742",
   "metadata": {},
   "outputs": [
    {
     "data": {
      "text/plain": [
       "[(SparsePauliOp(['IZ'],\n",
       "                coeffs=[1.+0.j]),\n",
       "  np.float64(-0.02123993209348634)),\n",
       " (SparsePauliOp(['IX'],\n",
       "                coeffs=[1.+0.j]),\n",
       "  np.float64(0.0012253806977011368)),\n",
       " (SparsePauliOp(['ZI'],\n",
       "                coeffs=[1.+0.j]),\n",
       "  np.float64(-0.015201615171611987)),\n",
       " (SparsePauliOp(['XI'],\n",
       "                coeffs=[1.+0.j]),\n",
       "  np.float64(-0.010401105117418723)),\n",
       " (SparsePauliOp(['ZZ'],\n",
       "                coeffs=[1.+0.j]),\n",
       "  np.float64(0.9729251255604519)),\n",
       " (SparsePauliOp(['XX'],\n",
       "                coeffs=[1.+0.j]),\n",
       "  np.float64(0.967588405462441))]"
      ]
     },
     "execution_count": 16,
     "metadata": {},
     "output_type": "execute_result"
    }
   ],
   "source": [
    "list(zip(observables, pub_result.data.evs))"
   ]
  },
  {
   "cell_type": "markdown",
   "id": "26841cab-6669-4335-adc7-3f16c94c154a",
   "metadata": {},
   "source": [
    "This only sat in the queue for 3 seconds and took 5 seconds to run. That's much better than my first circuit of simply measuring two qubits, that also grabbed the \"least busy\" machine, and sat in queue for almost 3 hours and took 9 seconds to run."
   ]
  },
  {
   "cell_type": "markdown",
   "id": "5d02a7de-003e-4979-8a4f-22af6bac6e7b",
   "metadata": {},
   "source": [
    "#### Or use a fake provider\n",
    "\n",
    "Good for small circuits, but unfeasible on circuits large enough to warrant quantum computing."
   ]
  },
  {
   "cell_type": "code",
   "execution_count": 17,
   "id": "10ada7c5-7eeb-4fba-a9a4-a717debdff35",
   "metadata": {},
   "outputs": [],
   "source": [
    " \n",
    "# Use the following code instead if you want to run on a simulator:\n",
    " \n",
    "from qiskit_ibm_runtime.fake_provider import FakeAlmadenV2\n",
    "backend = FakeAlmadenV2()\n",
    "estimator = Estimator(backend)\n",
    " \n",
    "# Convert to an ISA circuit and layout-mapped observables.\n",
    " \n",
    "pm = generate_preset_pass_manager(backend=backend, optimization_level=1)\n",
    "isa_circuit = pm.run(qc)\n",
    "mapped_observables = [\n",
    "    observable.apply_layout(isa_circuit.layout) for observable in observables\n",
    "]\n",
    " \n",
    "job = estimator.run([(isa_circuit, mapped_observables)])\n",
    "result = job.result()\n",
    " \n",
    "# This is the result of the entire submission.  You submitted one Pub,\n",
    "# so this contains one inner result (and some metadata of its own).\n",
    " \n",
    "job_result = job.result()\n",
    " \n",
    "# This is the result from our single pub, which had five observables,\n",
    "# so contains information on all five.\n",
    " \n",
    "pub_result = job.result()[0]"
   ]
  },
  {
   "cell_type": "code",
   "execution_count": 18,
   "id": "28a93c28-f934-413f-8046-ea72e16f9dea",
   "metadata": {},
   "outputs": [
    {
     "data": {
      "text/plain": [
       "[(SparsePauliOp(['IZ'],\n",
       "                coeffs=[1.+0.j]),\n",
       "  np.float64(0.04443359375)),\n",
       " (SparsePauliOp(['IX'],\n",
       "                coeffs=[1.+0.j]),\n",
       "  np.float64(0.04736328125)),\n",
       " (SparsePauliOp(['ZI'],\n",
       "                coeffs=[1.+0.j]),\n",
       "  np.float64(0.13134765625)),\n",
       " (SparsePauliOp(['XI'],\n",
       "                coeffs=[1.+0.j]),\n",
       "  np.float64(0.1376953125)),\n",
       " (SparsePauliOp(['ZZ'],\n",
       "                coeffs=[1.+0.j]),\n",
       "  np.float64(0.7783203125)),\n",
       " (SparsePauliOp(['XX'],\n",
       "                coeffs=[1.+0.j]),\n",
       "  np.float64(0.78271484375))]"
      ]
     },
     "execution_count": 18,
     "metadata": {},
     "output_type": "execute_result"
    }
   ],
   "source": [
    "list(zip(observables, pub_result.data.evs))"
   ]
  },
  {
   "cell_type": "code",
   "execution_count": null,
   "id": "e5404893-cb7e-4a38-af38-5057fda52904",
   "metadata": {},
   "outputs": [],
   "source": []
  },
  {
   "cell_type": "code",
   "execution_count": null,
   "id": "d05aaabd-3d3d-4582-87f4-0c46a1e321a8",
   "metadata": {},
   "outputs": [],
   "source": [
    "\n"
   ]
  },
  {
   "cell_type": "code",
   "execution_count": null,
   "id": "24a6fda3-c9d7-47f1-9f65-8e24c2d7097a",
   "metadata": {},
   "outputs": [],
   "source": [
    "\n"
   ]
  },
  {
   "cell_type": "code",
   "execution_count": null,
   "id": "5b160631-42ee-4950-8d34-78750c666ce6",
   "metadata": {},
   "outputs": [],
   "source": []
  },
  {
   "cell_type": "code",
   "execution_count": null,
   "id": "8944e977-42c7-4edd-94a7-33b82b3fce8f",
   "metadata": {},
   "outputs": [],
   "source": [
    "\n",
    "\n",
    "\n"
   ]
  },
  {
   "cell_type": "code",
   "execution_count": 21,
   "id": "e04a32da-750f-48c6-9c87-9568865a3e60",
   "metadata": {},
   "outputs": [
    {
     "data": {
      "text/plain": [
       "[(np.float64(0.015609567814644183), np.float64(0.04443359375)),\n",
       " (np.float64(0.0156074645320265), np.float64(0.04736328125)),\n",
       " (np.float64(0.015489630739583194), np.float64(0.13134765625)),\n",
       " (np.float64(0.015476166158759004), np.float64(0.1376953125)),\n",
       " (np.float64(0.0098104283634951), np.float64(0.7783203125)),\n",
       " (np.float64(0.009724695144209197), np.float64(0.78271484375))]"
      ]
     },
     "execution_count": 21,
     "metadata": {},
     "output_type": "execute_result"
    }
   ],
   "source": [
    "list(zip(pub_result.data.stds, pub_result.data.evs))"
   ]
  },
  {
   "cell_type": "code",
   "execution_count": null,
   "id": "52bc069d-9b3c-44bf-82fa-b394652cb641",
   "metadata": {},
   "outputs": [],
   "source": []
  },
  {
   "cell_type": "markdown",
   "id": "5e51a5f4-6da2-4379-ba11-fdfbcdd235ff",
   "metadata": {},
   "source": [
    "So, a little different between the simulated distribution and true distribution, but general agreement that ZZ and XX are close to 1 and the rest of the gates are close to 0.\n",
    "\n",
    "It looks like the simulator is one with builtin noise."
   ]
  },
  {
   "cell_type": "markdown",
   "id": "d80fafaa-6550-407f-8470-ecbb2bd5f9cf",
   "metadata": {},
   "source": [
    "### Analyze the results\n",
    "\n",
    "There are a number of post-processing steps you could take. Plotting is one of them. (A barchart would be more sensible I think.)"
   ]
  },
  {
   "cell_type": "code",
   "execution_count": 19,
   "id": "28013bb0-2386-4bbd-ab33-cc1f446f0c72",
   "metadata": {},
   "outputs": [
    {
     "data": {
      "image/png": "[encoded data removed]",
      "text/plain": [
       "<Figure size 640x480 with 1 Axes>"
      ]
     },
     "metadata": {},
     "output_type": "display_data"
    }
   ],
   "source": [
    "# Plot the result\n",
    " \n",
    "from matplotlib import pyplot as plt\n",
    " \n",
    "values = pub_result.data.evs\n",
    " \n",
    "errors = pub_result.data.stds\n",
    " \n",
    "# plotting graph\n",
    "plt.plot(observables_labels, values, \"-o\")\n",
    "plt.xlabel(\"Observables\")\n",
    "plt.ylabel(\"Values\")\n",
    "plt.show()"
   ]
  },
  {
   "cell_type": "markdown",
   "id": "c5f501e4-982a-42d9-b7eb-8694d3ff2792",
   "metadata": {},
   "source": [
    "\"Notice that for qubits 0 and 1, the independent expectation values of both X and Z are 0, while the correlations (XX and ZZ) are 1. This is a hallmark of quantum entanglement.\""
   ]
  },
  {
   "cell_type": "code",
   "execution_count": null,
   "id": "5fe8f572-762c-459e-8ba3-7540f7d9df3b",
   "metadata": {},
   "outputs": [],
   "source": []
  }
 ],
 "metadata": {
  "kernelspec": {
   "display_name": "Python 3 (ipykernel)",
   "language": "python",
   "name": "python3"
  },
  "language_info": {
   "codemirror_mode": {
    "name": "ipython",
    "version": 3
   },
   "file_extension": ".py",
   "mimetype": "text/x-python",
   "name": "python",
   "nbconvert_exporter": "python",
   "pygments_lexer": "ipython3",
   "version": "3.12.8"
  }
 },
 "nbformat": 4,
 "nbformat_minor": 5
}

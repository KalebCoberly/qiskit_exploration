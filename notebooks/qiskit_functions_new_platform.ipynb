{
 "cells": [
  {
   "cell_type": "code",
   "execution_count": null,
   "id": "d0e47116",
   "metadata": {},
   "outputs": [],
   "source": [
    "# Installed:\n",
    "# python==3.12\n",
    "# qiskit~=1.4.1\n",
    "# qiskit-ibm-catalog~=0.4.0\n",
    "# qiskit-ibm-runtime~=0.37.0\n",
    "# python-dotenv>=1.1.0,<2.0.0 # import dotenv\n",
    "\n",
    "# Uses IBM Quantum Platform (new, not classic).\n",
    "\n",
    "# Display all output in each cell.\n",
    "from IPython.core.interactiveshell import InteractiveShell\n",
    "InteractiveShell.ast_node_interactivity = \"all\""
   ]
  }
 ],
 "metadata": {
  "language_info": {
   "name": "python"
  }
 },
 "nbformat": 4,
 "nbformat_minor": 5
}
